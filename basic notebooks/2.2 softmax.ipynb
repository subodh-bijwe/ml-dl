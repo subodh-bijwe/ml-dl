{
 "cells": [
  {
   "cell_type": "code",
   "execution_count": 1,
   "id": "d457f060-119e-4df9-94aa-5d5e8352ec79",
   "metadata": {},
   "outputs": [],
   "source": [
    "import torch"
   ]
  },
  {
   "cell_type": "code",
   "execution_count": 3,
   "id": "1164f153-ae75-4ea7-bd4e-f8c3b036ac8d",
   "metadata": {},
   "outputs": [],
   "source": [
    "class SoftmaxRegression(torch.nn.Module):\n",
    "    def __init__(self, num_features):\n",
    "        super().__init__()\n",
    "        self.Linear = torch.nn.Linear(num_features, 3)\n",
    "\n",
    "    def forward(self, x):\n",
    "        logits = self.linear(x)\n",
    "        probas = torch.nn.functional(logits)\n",
    "        return probas"
   ]
  },
  {
   "cell_type": "markdown",
   "id": "b0a941ba-8644-4583-8659-1317fd2ffe59",
   "metadata": {},
   "source": [
    "#### One hot encoding"
   ]
  },
  {
   "cell_type": "code",
   "execution_count": 5,
   "id": "964f7764-72f1-4230-aa5c-80d6d9a65e63",
   "metadata": {},
   "outputs": [],
   "source": [
    "import torch\n",
    "import torch.nn.functional as F"
   ]
  },
  {
   "cell_type": "code",
   "execution_count": 6,
   "id": "19246ea4-d3a6-4f85-81c9-5a145ed2be60",
   "metadata": {},
   "outputs": [
    {
     "data": {
      "text/plain": [
       "tensor([[1, 0, 0],\n",
       "        [0, 0, 1],\n",
       "        [0, 0, 1],\n",
       "        [0, 1, 0]])"
      ]
     },
     "execution_count": 6,
     "metadata": {},
     "output_type": "execute_result"
    }
   ],
   "source": [
    "y = torch.tensor([0,2,2,1])\n",
    "y_onehot = F.one_hot(y)\n",
    "y_onehot"
   ]
  },
  {
   "cell_type": "code",
   "execution_count": 7,
   "id": "418e5877-34db-4ef9-8081-d88243afe057",
   "metadata": {},
   "outputs": [
    {
     "data": {
      "text/plain": [
       "tensor([[0.7162, 0.1766, 0.1071],\n",
       "        [0.1394, 0.1702, 0.6904],\n",
       "        [0.0229, 0.5613, 0.4158],\n",
       "        [0.1940, 0.7866, 0.0194]])"
      ]
     },
     "execution_count": 7,
     "metadata": {},
     "output_type": "execute_result"
    }
   ],
   "source": [
    "net_inputs = torch.tensor([[1.5, 0.1, -0.4],[0.5, 0.7, 2.1],[-2.1, 1.1, 0.8],[1.1, 2.5, -1.2]])\n",
    "\n",
    "activations = torch.softmax(net_inputs, dim=1)\n",
    "activations"
   ]
  },
  {
   "cell_type": "code",
   "execution_count": 8,
   "id": "05327e6d-1605-4088-974f-a43157185447",
   "metadata": {},
   "outputs": [
    {
     "data": {
      "text/plain": [
       "tensor(0.4555)"
      ]
     },
     "execution_count": 8,
     "metadata": {},
     "output_type": "execute_result"
    }
   ],
   "source": [
    "def manual_cross_entropy(net_inputs, y):\n",
    "    activations = torch.softmax(net_inputs, dim=1)\n",
    "    y_onehot = F.one_hot(y)\n",
    "    train_losses = - torch.sum(torch.log(activations) * (y_onehot), dim=1)\n",
    "    avg_loss = torch.mean(train_losses)\n",
    "    return avg_loss\n",
    "\n",
    "manual_cross_entropy(net_inputs, y)"
   ]
  },
  {
   "cell_type": "code",
   "execution_count": 9,
   "id": "1f0e7710-b228-4755-9739-12a4c9a26c71",
   "metadata": {},
   "outputs": [
    {
     "data": {
      "text/plain": [
       "tensor(0.4555)"
      ]
     },
     "execution_count": 9,
     "metadata": {},
     "output_type": "execute_result"
    }
   ],
   "source": [
    "F.cross_entropy(net_inputs, y)"
   ]
  },
  {
   "cell_type": "code",
   "execution_count": null,
   "id": "b3564936-8bee-4ff9-a43b-7d6e08206368",
   "metadata": {},
   "outputs": [],
   "source": []
  }
 ],
 "metadata": {
  "kernelspec": {
   "display_name": "Python 3 (ipykernel)",
   "language": "python",
   "name": "python3"
  },
  "language_info": {
   "codemirror_mode": {
    "name": "ipython",
    "version": 3
   },
   "file_extension": ".py",
   "mimetype": "text/x-python",
   "name": "python",
   "nbconvert_exporter": "python",
   "pygments_lexer": "ipython3",
   "version": "3.11.5"
  }
 },
 "nbformat": 4,
 "nbformat_minor": 5
}
