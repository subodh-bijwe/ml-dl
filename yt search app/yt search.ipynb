{
 "cells": [
  {
   "cell_type": "code",
   "execution_count": 1,
   "id": "e26cf880-b5eb-4394-b974-079c561e44cf",
   "metadata": {
    "scrolled": true
   },
   "outputs": [
    {
     "name": "stdout",
     "output_type": "stream",
     "text": [
      "Collecting datasets\n",
      "  Obtaining dependency information for datasets from https://files.pythonhosted.org/packages/e2/cf/db41e572d7ed958e8679018f8190438ef700aeb501b62da9e1eed9e4d69a/datasets-2.15.0-py3-none-any.whl.metadata\n",
      "  Downloading datasets-2.15.0-py3-none-any.whl.metadata (20 kB)\n",
      "Requirement already satisfied: sentence-transformers in c:\\users\\subodh bijwe\\desktop\\ml trials\\mlenv\\lib\\site-packages (2.2.2)\n",
      "Collecting pinecone-client\n",
      "  Obtaining dependency information for pinecone-client from https://files.pythonhosted.org/packages/df/d4/cffbb61236c6c1d7510e835c1ff843e4e7d705ed59d21c0e5b6dc1cb4fd8/pinecone_client-2.2.4-py3-none-any.whl.metadata\n",
      "  Downloading pinecone_client-2.2.4-py3-none-any.whl.metadata (7.8 kB)\n",
      "Requirement already satisfied: tqdm in c:\\users\\subodh bijwe\\desktop\\ml trials\\mlenv\\lib\\site-packages (4.66.1)\n",
      "Requirement already satisfied: numpy>=1.17 in c:\\users\\subodh bijwe\\desktop\\ml trials\\mlenv\\lib\\site-packages (from datasets) (1.26.2)\n",
      "Collecting pyarrow>=8.0.0 (from datasets)\n",
      "  Obtaining dependency information for pyarrow>=8.0.0 from https://files.pythonhosted.org/packages/d4/f0/607f50ec87ac4775d6124855ae6be2c48bab58aa0a660ccd46e9af52bcd9/pyarrow-14.0.1-cp311-cp311-win_amd64.whl.metadata\n",
      "  Downloading pyarrow-14.0.1-cp311-cp311-win_amd64.whl.metadata (3.1 kB)\n",
      "Collecting pyarrow-hotfix (from datasets)\n",
      "  Obtaining dependency information for pyarrow-hotfix from https://files.pythonhosted.org/packages/e4/f4/9ec2222f5f5f8ea04f66f184caafd991a39c8782e31f5b0266f101cb68ca/pyarrow_hotfix-0.6-py3-none-any.whl.metadata\n",
      "  Downloading pyarrow_hotfix-0.6-py3-none-any.whl.metadata (3.6 kB)\n",
      "Collecting dill<0.3.8,>=0.3.0 (from datasets)\n",
      "  Obtaining dependency information for dill<0.3.8,>=0.3.0 from https://files.pythonhosted.org/packages/f5/3a/74a29b11cf2cdfcd6ba89c0cecd70b37cd1ba7b77978ce611eb7a146a832/dill-0.3.7-py3-none-any.whl.metadata\n",
      "  Downloading dill-0.3.7-py3-none-any.whl.metadata (9.9 kB)\n",
      "Requirement already satisfied: pandas in c:\\users\\subodh bijwe\\desktop\\ml trials\\mlenv\\lib\\site-packages (from datasets) (2.1.3)\n",
      "Requirement already satisfied: requests>=2.19.0 in c:\\users\\subodh bijwe\\desktop\\ml trials\\mlenv\\lib\\site-packages (from datasets) (2.31.0)\n",
      "Collecting xxhash (from datasets)\n",
      "  Obtaining dependency information for xxhash from https://files.pythonhosted.org/packages/b7/3a/74a609706ef4430fe6d041a3b8d209882c15440b695e373fe26d48c6f35c/xxhash-3.4.1-cp311-cp311-win_amd64.whl.metadata\n",
      "  Downloading xxhash-3.4.1-cp311-cp311-win_amd64.whl.metadata (12 kB)\n",
      "Collecting multiprocess (from datasets)\n",
      "  Obtaining dependency information for multiprocess from https://files.pythonhosted.org/packages/e7/41/96ac938770ba6e7d5ae1d8c9cafebac54b413549042c6260f0d0a6ec6622/multiprocess-0.70.15-py311-none-any.whl.metadata\n",
      "  Downloading multiprocess-0.70.15-py311-none-any.whl.metadata (7.2 kB)\n",
      "Collecting fsspec[http]<=2023.10.0,>=2023.1.0 (from datasets)\n",
      "  Obtaining dependency information for fsspec[http]<=2023.10.0,>=2023.1.0 from https://files.pythonhosted.org/packages/e8/f6/3eccfb530aac90ad1301c582da228e4763f19e719ac8200752a4841b0b2d/fsspec-2023.10.0-py3-none-any.whl.metadata\n",
      "  Using cached fsspec-2023.10.0-py3-none-any.whl.metadata (6.8 kB)\n",
      "Collecting aiohttp (from datasets)\n",
      "  Obtaining dependency information for aiohttp from https://files.pythonhosted.org/packages/84/7a/70ca0dcffcb261d1e71590d1c93863f8b59415a52f610f75ee3e570e003c/aiohttp-3.9.1-cp311-cp311-win_amd64.whl.metadata\n",
      "  Downloading aiohttp-3.9.1-cp311-cp311-win_amd64.whl.metadata (7.6 kB)\n",
      "Requirement already satisfied: huggingface-hub>=0.18.0 in c:\\users\\subodh bijwe\\desktop\\ml trials\\mlenv\\lib\\site-packages (from datasets) (0.19.4)\n",
      "Requirement already satisfied: packaging in c:\\users\\subodh bijwe\\desktop\\ml trials\\mlenv\\lib\\site-packages (from datasets) (23.2)\n",
      "Requirement already satisfied: pyyaml>=5.1 in c:\\users\\subodh bijwe\\desktop\\ml trials\\mlenv\\lib\\site-packages (from datasets) (6.0.1)\n",
      "Requirement already satisfied: transformers<5.0.0,>=4.6.0 in c:\\users\\subodh bijwe\\desktop\\ml trials\\mlenv\\lib\\site-packages (from sentence-transformers) (4.35.2)\n",
      "Requirement already satisfied: torch>=1.6.0 in c:\\users\\subodh bijwe\\desktop\\ml trials\\mlenv\\lib\\site-packages (from sentence-transformers) (2.1.1)\n",
      "Requirement already satisfied: torchvision in c:\\users\\subodh bijwe\\desktop\\ml trials\\mlenv\\lib\\site-packages (from sentence-transformers) (0.16.1)\n",
      "Requirement already satisfied: scikit-learn in c:\\users\\subodh bijwe\\desktop\\ml trials\\mlenv\\lib\\site-packages (from sentence-transformers) (1.3.2)\n",
      "Requirement already satisfied: scipy in c:\\users\\subodh bijwe\\desktop\\ml trials\\mlenv\\lib\\site-packages (from sentence-transformers) (1.11.4)\n",
      "Requirement already satisfied: nltk in c:\\users\\subodh bijwe\\desktop\\ml trials\\mlenv\\lib\\site-packages (from sentence-transformers) (3.8.1)\n",
      "Requirement already satisfied: sentencepiece in c:\\users\\subodh bijwe\\desktop\\ml trials\\mlenv\\lib\\site-packages (from sentence-transformers) (0.1.99)\n",
      "Collecting loguru>=0.5.0 (from pinecone-client)\n",
      "  Obtaining dependency information for loguru>=0.5.0 from https://files.pythonhosted.org/packages/03/0a/4f6fed21aa246c6b49b561ca55facacc2a44b87d65b8b92362a8e99ba202/loguru-0.7.2-py3-none-any.whl.metadata\n",
      "  Downloading loguru-0.7.2-py3-none-any.whl.metadata (23 kB)\n",
      "Requirement already satisfied: typing-extensions>=3.7.4 in c:\\users\\subodh bijwe\\desktop\\ml trials\\mlenv\\lib\\site-packages (from pinecone-client) (4.8.0)\n",
      "Collecting dnspython>=2.0.0 (from pinecone-client)\n",
      "  Obtaining dependency information for dnspython>=2.0.0 from https://files.pythonhosted.org/packages/f6/b4/0a9bee52c50f226a3cbfb54263d02bb421c7f2adc136520729c2c689c1e5/dnspython-2.4.2-py3-none-any.whl.metadata\n",
      "  Using cached dnspython-2.4.2-py3-none-any.whl.metadata (4.9 kB)\n",
      "Requirement already satisfied: python-dateutil>=2.5.3 in c:\\users\\subodh bijwe\\desktop\\ml trials\\mlenv\\lib\\site-packages (from pinecone-client) (2.8.2)\n",
      "Requirement already satisfied: urllib3>=1.21.1 in c:\\users\\subodh bijwe\\desktop\\ml trials\\mlenv\\lib\\site-packages (from pinecone-client) (2.1.0)\n",
      "Requirement already satisfied: colorama in c:\\users\\subodh bijwe\\desktop\\ml trials\\mlenv\\lib\\site-packages (from tqdm) (0.4.6)\n",
      "Requirement already satisfied: attrs>=17.3.0 in c:\\users\\subodh bijwe\\desktop\\ml trials\\mlenv\\lib\\site-packages (from aiohttp->datasets) (23.1.0)\n",
      "Collecting multidict<7.0,>=4.5 (from aiohttp->datasets)\n",
      "  Using cached multidict-6.0.4-cp311-cp311-win_amd64.whl (28 kB)\n",
      "Collecting yarl<2.0,>=1.0 (from aiohttp->datasets)\n",
      "  Obtaining dependency information for yarl<2.0,>=1.0 from https://files.pythonhosted.org/packages/27/41/945ae9a80590e4fb0be166863c6e63d75e4b35789fa3a61ff1dbdcdc220f/yarl-1.9.4-cp311-cp311-win_amd64.whl.metadata\n",
      "  Downloading yarl-1.9.4-cp311-cp311-win_amd64.whl.metadata (32 kB)\n",
      "Collecting frozenlist>=1.1.1 (from aiohttp->datasets)\n",
      "  Obtaining dependency information for frozenlist>=1.1.1 from https://files.pythonhosted.org/packages/39/16/72d9ccd30815d0b37218348f053be37bc3d14288ac192a794a39990ac28e/frozenlist-1.4.0-cp311-cp311-win_amd64.whl.metadata\n",
      "  Using cached frozenlist-1.4.0-cp311-cp311-win_amd64.whl.metadata (5.3 kB)\n",
      "Collecting aiosignal>=1.1.2 (from aiohttp->datasets)\n",
      "  Using cached aiosignal-1.3.1-py3-none-any.whl (7.6 kB)\n",
      "Requirement already satisfied: filelock in c:\\users\\subodh bijwe\\desktop\\ml trials\\mlenv\\lib\\site-packages (from huggingface-hub>=0.18.0->datasets) (3.13.1)\n",
      "Collecting win32-setctime>=1.0.0 (from loguru>=0.5.0->pinecone-client)\n",
      "  Using cached win32_setctime-1.1.0-py3-none-any.whl (3.6 kB)\n",
      "Requirement already satisfied: six>=1.5 in c:\\users\\subodh bijwe\\desktop\\ml trials\\mlenv\\lib\\site-packages (from python-dateutil>=2.5.3->pinecone-client) (1.16.0)\n",
      "Requirement already satisfied: charset-normalizer<4,>=2 in c:\\users\\subodh bijwe\\desktop\\ml trials\\mlenv\\lib\\site-packages (from requests>=2.19.0->datasets) (3.3.2)\n",
      "Requirement already satisfied: idna<4,>=2.5 in c:\\users\\subodh bijwe\\desktop\\ml trials\\mlenv\\lib\\site-packages (from requests>=2.19.0->datasets) (3.6)\n",
      "Requirement already satisfied: certifi>=2017.4.17 in c:\\users\\subodh bijwe\\desktop\\ml trials\\mlenv\\lib\\site-packages (from requests>=2.19.0->datasets) (2023.11.17)\n",
      "Requirement already satisfied: sympy in c:\\users\\subodh bijwe\\desktop\\ml trials\\mlenv\\lib\\site-packages (from torch>=1.6.0->sentence-transformers) (1.12)\n",
      "Requirement already satisfied: networkx in c:\\users\\subodh bijwe\\desktop\\ml trials\\mlenv\\lib\\site-packages (from torch>=1.6.0->sentence-transformers) (3.2.1)\n",
      "Requirement already satisfied: jinja2 in c:\\users\\subodh bijwe\\desktop\\ml trials\\mlenv\\lib\\site-packages (from torch>=1.6.0->sentence-transformers) (3.1.2)\n",
      "Requirement already satisfied: regex!=2019.12.17 in c:\\users\\subodh bijwe\\desktop\\ml trials\\mlenv\\lib\\site-packages (from transformers<5.0.0,>=4.6.0->sentence-transformers) (2023.10.3)\n",
      "Requirement already satisfied: tokenizers<0.19,>=0.14 in c:\\users\\subodh bijwe\\desktop\\ml trials\\mlenv\\lib\\site-packages (from transformers<5.0.0,>=4.6.0->sentence-transformers) (0.15.0)\n",
      "Requirement already satisfied: safetensors>=0.3.1 in c:\\users\\subodh bijwe\\desktop\\ml trials\\mlenv\\lib\\site-packages (from transformers<5.0.0,>=4.6.0->sentence-transformers) (0.4.1)\n",
      "Requirement already satisfied: click in c:\\users\\subodh bijwe\\desktop\\ml trials\\mlenv\\lib\\site-packages (from nltk->sentence-transformers) (8.1.7)\n",
      "Requirement already satisfied: joblib in c:\\users\\subodh bijwe\\desktop\\ml trials\\mlenv\\lib\\site-packages (from nltk->sentence-transformers) (1.3.2)\n",
      "Requirement already satisfied: pytz>=2020.1 in c:\\users\\subodh bijwe\\desktop\\ml trials\\mlenv\\lib\\site-packages (from pandas->datasets) (2023.3.post1)\n",
      "Requirement already satisfied: tzdata>=2022.1 in c:\\users\\subodh bijwe\\desktop\\ml trials\\mlenv\\lib\\site-packages (from pandas->datasets) (2023.3)\n",
      "Requirement already satisfied: threadpoolctl>=2.0.0 in c:\\users\\subodh bijwe\\desktop\\ml trials\\mlenv\\lib\\site-packages (from scikit-learn->sentence-transformers) (3.2.0)\n",
      "Requirement already satisfied: pillow!=8.3.*,>=5.3.0 in c:\\users\\subodh bijwe\\desktop\\ml trials\\mlenv\\lib\\site-packages (from torchvision->sentence-transformers) (10.1.0)\n",
      "Requirement already satisfied: MarkupSafe>=2.0 in c:\\users\\subodh bijwe\\desktop\\ml trials\\mlenv\\lib\\site-packages (from jinja2->torch>=1.6.0->sentence-transformers) (2.1.3)\n",
      "Requirement already satisfied: mpmath>=0.19 in c:\\users\\subodh bijwe\\desktop\\ml trials\\mlenv\\lib\\site-packages (from sympy->torch>=1.6.0->sentence-transformers) (1.3.0)\n",
      "Downloading datasets-2.15.0-py3-none-any.whl (521 kB)\n",
      "   ---------------------------------------- 0.0/521.2 kB ? eta -:--:--\n",
      "   ------------------------- ------------- 337.9/521.2 kB 10.2 MB/s eta 0:00:01\n",
      "   ---------------------------------------- 521.2/521.2 kB 8.1 MB/s eta 0:00:00\n",
      "Downloading pinecone_client-2.2.4-py3-none-any.whl (179 kB)\n",
      "   ---------------------------------------- 0.0/179.4 kB ? eta -:--:--\n",
      "   --------------------------------------- 179.4/179.4 kB 10.6 MB/s eta 0:00:00\n",
      "Downloading dill-0.3.7-py3-none-any.whl (115 kB)\n",
      "   ---------------------------------------- 0.0/115.3 kB ? eta -:--:--\n",
      "   ---------------------------------------- 115.3/115.3 kB 6.6 MB/s eta 0:00:00\n",
      "Using cached dnspython-2.4.2-py3-none-any.whl (300 kB)\n",
      "Downloading aiohttp-3.9.1-cp311-cp311-win_amd64.whl (364 kB)\n",
      "   ---------------------------------------- 0.0/364.8 kB ? eta -:--:--\n",
      "   ------------------------------- -------- 286.7/364.8 kB 8.6 MB/s eta 0:00:01\n",
      "   ---------------------------------------- 364.8/364.8 kB 7.5 MB/s eta 0:00:00\n",
      "Downloading loguru-0.7.2-py3-none-any.whl (62 kB)\n",
      "   ---------------------------------------- 0.0/62.5 kB ? eta -:--:--\n",
      "   ---------------------------------------- 62.5/62.5 kB 3.3 MB/s eta 0:00:00\n",
      "Downloading pyarrow-14.0.1-cp311-cp311-win_amd64.whl (24.6 MB)\n",
      "   ---------------------------------------- 0.0/24.6 MB ? eta -:--:--\n",
      "    --------------------------------------- 0.4/24.6 MB 11.2 MB/s eta 0:00:03\n",
      "   - -------------------------------------- 0.8/24.6 MB 10.6 MB/s eta 0:00:03\n",
      "   -- ------------------------------------- 1.2/24.6 MB 9.8 MB/s eta 0:00:03\n",
      "   -- ------------------------------------- 1.6/24.6 MB 9.4 MB/s eta 0:00:03\n",
      "   --- ------------------------------------ 1.9/24.6 MB 8.8 MB/s eta 0:00:03\n",
      "   ---- ----------------------------------- 2.5/24.6 MB 9.2 MB/s eta 0:00:03\n",
      "   ---- ----------------------------------- 2.8/24.6 MB 8.8 MB/s eta 0:00:03\n",
      "   ---- ----------------------------------- 3.1/24.6 MB 8.5 MB/s eta 0:00:03\n",
      "   ----- ---------------------------------- 3.4/24.6 MB 8.4 MB/s eta 0:00:03\n",
      "   ------ --------------------------------- 3.9/24.6 MB 8.5 MB/s eta 0:00:03\n",
      "   ------ --------------------------------- 4.1/24.6 MB 8.1 MB/s eta 0:00:03\n",
      "   ------- -------------------------------- 4.4/24.6 MB 8.0 MB/s eta 0:00:03\n",
      "   ------- -------------------------------- 4.8/24.6 MB 8.1 MB/s eta 0:00:03\n",
      "   -------- ------------------------------- 5.2/24.6 MB 8.0 MB/s eta 0:00:03\n",
      "   -------- ------------------------------- 5.5/24.6 MB 8.0 MB/s eta 0:00:03\n",
      "   --------- ------------------------------ 5.8/24.6 MB 7.9 MB/s eta 0:00:03\n",
      "   ---------- ----------------------------- 6.3/24.6 MB 8.1 MB/s eta 0:00:03\n",
      "   ---------- ----------------------------- 6.7/24.6 MB 8.0 MB/s eta 0:00:03\n",
      "   ----------- ---------------------------- 7.0/24.6 MB 7.9 MB/s eta 0:00:03\n",
      "   ----------- ---------------------------- 7.2/24.6 MB 8.0 MB/s eta 0:00:03\n",
      "   ------------ --------------------------- 7.6/24.6 MB 7.9 MB/s eta 0:00:03\n",
      "   ------------ --------------------------- 7.9/24.6 MB 7.8 MB/s eta 0:00:03\n",
      "   ------------- -------------------------- 8.2/24.6 MB 7.7 MB/s eta 0:00:03\n",
      "   -------------- ------------------------- 8.7/24.6 MB 7.8 MB/s eta 0:00:03\n",
      "   -------------- ------------------------- 9.0/24.6 MB 7.8 MB/s eta 0:00:03\n",
      "   --------------- ------------------------ 9.4/24.6 MB 7.8 MB/s eta 0:00:02\n",
      "   --------------- ------------------------ 9.6/24.6 MB 7.7 MB/s eta 0:00:02\n",
      "   ---------------- ----------------------- 9.9/24.6 MB 7.7 MB/s eta 0:00:02\n",
      "   ---------------- ----------------------- 10.3/24.6 MB 7.6 MB/s eta 0:00:02\n",
      "   ----------------- ---------------------- 10.7/24.6 MB 7.6 MB/s eta 0:00:02\n",
      "   ----------------- ---------------------- 11.0/24.6 MB 7.5 MB/s eta 0:00:02\n",
      "   ------------------ --------------------- 11.4/24.6 MB 7.5 MB/s eta 0:00:02\n",
      "   ------------------- -------------------- 11.7/24.6 MB 7.5 MB/s eta 0:00:02\n",
      "   ------------------- -------------------- 12.0/24.6 MB 7.4 MB/s eta 0:00:02\n",
      "   -------------------- ------------------- 12.4/24.6 MB 7.5 MB/s eta 0:00:02\n",
      "   -------------------- ------------------- 12.8/24.6 MB 7.5 MB/s eta 0:00:02\n",
      "   --------------------- ------------------ 13.2/24.6 MB 7.6 MB/s eta 0:00:02\n",
      "   ---------------------- ----------------- 13.5/24.6 MB 7.5 MB/s eta 0:00:02\n",
      "   ---------------------- ----------------- 14.0/24.6 MB 7.5 MB/s eta 0:00:02\n",
      "   ----------------------- ---------------- 14.4/24.6 MB 7.7 MB/s eta 0:00:02\n",
      "   ----------------------- ---------------- 14.6/24.6 MB 7.5 MB/s eta 0:00:02\n",
      "   ------------------------ --------------- 14.9/24.6 MB 7.5 MB/s eta 0:00:02\n",
      "   ------------------------ --------------- 15.2/24.6 MB 7.5 MB/s eta 0:00:02\n",
      "   ------------------------- -------------- 15.5/24.6 MB 7.4 MB/s eta 0:00:02\n",
      "   ------------------------- -------------- 15.8/24.6 MB 7.4 MB/s eta 0:00:02\n",
      "   -------------------------- ------------- 16.2/24.6 MB 7.4 MB/s eta 0:00:02\n",
      "   --------------------------- ------------ 16.6/24.6 MB 7.4 MB/s eta 0:00:02\n",
      "   --------------------------- ------------ 17.0/24.6 MB 7.4 MB/s eta 0:00:02\n",
      "   ---------------------------- ----------- 17.4/24.6 MB 7.5 MB/s eta 0:00:01\n",
      "   ---------------------------- ----------- 17.8/24.6 MB 7.5 MB/s eta 0:00:01\n",
      "   ----------------------------- ---------- 18.1/24.6 MB 7.5 MB/s eta 0:00:01\n",
      "   ------------------------------ --------- 18.5/24.6 MB 7.6 MB/s eta 0:00:01\n",
      "   ------------------------------ --------- 18.7/24.6 MB 7.5 MB/s eta 0:00:01\n",
      "   ------------------------------ --------- 19.0/24.6 MB 7.5 MB/s eta 0:00:01\n",
      "   ------------------------------- -------- 19.3/24.6 MB 7.4 MB/s eta 0:00:01\n",
      "   -------------------------------- ------- 19.7/24.6 MB 7.4 MB/s eta 0:00:01\n",
      "   -------------------------------- ------- 20.1/24.6 MB 7.5 MB/s eta 0:00:01\n",
      "   --------------------------------- ------ 20.4/24.6 MB 7.5 MB/s eta 0:00:01\n",
      "   --------------------------------- ------ 20.7/24.6 MB 7.5 MB/s eta 0:00:01\n",
      "   ---------------------------------- ----- 21.1/24.6 MB 7.4 MB/s eta 0:00:01\n",
      "   ----------------------------------- ---- 21.5/24.6 MB 7.5 MB/s eta 0:00:01\n",
      "   ----------------------------------- ---- 21.9/24.6 MB 7.5 MB/s eta 0:00:01\n",
      "   ------------------------------------ --- 22.3/24.6 MB 7.8 MB/s eta 0:00:01\n",
      "   ------------------------------------ --- 22.7/24.6 MB 7.6 MB/s eta 0:00:01\n",
      "   ------------------------------------- -- 23.0/24.6 MB 7.5 MB/s eta 0:00:01\n",
      "   -------------------------------------- - 23.4/24.6 MB 7.6 MB/s eta 0:00:01\n",
      "   -------------------------------------- - 23.8/24.6 MB 7.7 MB/s eta 0:00:01\n",
      "   ---------------------------------------  24.1/24.6 MB 7.5 MB/s eta 0:00:01\n",
      "   ---------------------------------------  24.4/24.6 MB 7.5 MB/s eta 0:00:01\n",
      "   ---------------------------------------  24.6/24.6 MB 7.4 MB/s eta 0:00:01\n",
      "   ---------------------------------------  24.6/24.6 MB 7.4 MB/s eta 0:00:01\n",
      "   ---------------------------------------- 24.6/24.6 MB 7.0 MB/s eta 0:00:00\n",
      "Downloading multiprocess-0.70.15-py311-none-any.whl (135 kB)\n",
      "   ---------------------------------------- 0.0/135.4 kB ? eta -:--:--\n",
      "   ---------------------------------------- 135.4/135.4 kB 8.3 MB/s eta 0:00:00\n",
      "Downloading pyarrow_hotfix-0.6-py3-none-any.whl (7.9 kB)\n",
      "Downloading xxhash-3.4.1-cp311-cp311-win_amd64.whl (29 kB)\n",
      "Using cached frozenlist-1.4.0-cp311-cp311-win_amd64.whl (44 kB)\n",
      "Downloading fsspec-2023.10.0-py3-none-any.whl (166 kB)\n",
      "   ---------------------------------------- 0.0/166.4 kB ? eta -:--:--\n",
      "   ---------------------------------------- 166.4/166.4 kB 9.8 MB/s eta 0:00:00\n",
      "Downloading yarl-1.9.4-cp311-cp311-win_amd64.whl (76 kB)\n",
      "   ---------------------------------------- 0.0/76.7 kB ? eta -:--:--\n",
      "   ---------------------------------------- 76.7/76.7 kB 4.4 MB/s eta 0:00:00\n",
      "Installing collected packages: xxhash, win32-setctime, pyarrow-hotfix, pyarrow, multidict, fsspec, frozenlist, dnspython, dill, yarl, multiprocess, loguru, aiosignal, pinecone-client, aiohttp, datasets\n",
      "  Attempting uninstall: fsspec\n",
      "    Found existing installation: fsspec 2023.12.1\n",
      "    Uninstalling fsspec-2023.12.1:\n",
      "      Successfully uninstalled fsspec-2023.12.1\n",
      "Successfully installed aiohttp-3.9.1 aiosignal-1.3.1 datasets-2.15.0 dill-0.3.7 dnspython-2.4.2 frozenlist-1.4.0 fsspec-2023.10.0 loguru-0.7.2 multidict-6.0.4 multiprocess-0.70.15 pinecone-client-2.2.4 pyarrow-14.0.1 pyarrow-hotfix-0.6 win32-setctime-1.1.0 xxhash-3.4.1 yarl-1.9.4\n"
     ]
    },
    {
     "name": "stderr",
     "output_type": "stream",
     "text": [
      "\n",
      "[notice] A new release of pip is available: 23.2.1 -> 23.3.1\n",
      "[notice] To update, run: python.exe -m pip install --upgrade pip\n"
     ]
    }
   ],
   "source": [
    "!pip install -U datasets sentence-transformers pinecone-client tqdm"
   ]
  },
  {
   "cell_type": "code",
   "execution_count": 1,
   "id": "9b697f03-edbd-42a5-9698-4bf60ddce77b",
   "metadata": {},
   "outputs": [
    {
     "data": {
      "text/plain": [
       "Dataset({\n",
       "    features: ['video_id', 'text', 'start_second', 'end_second', 'url', 'title', 'thumbnail'],\n",
       "    num_rows: 11298\n",
       "})"
      ]
     },
     "execution_count": 1,
     "metadata": {},
     "output_type": "execute_result"
    }
   ],
   "source": [
    "from datasets import load_dataset\n",
    "\n",
    "ytt = load_dataset(\n",
    "    \"pinecone/yt-transcriptions\",\n",
    "    split=\"train\",\n",
    "    revision=\"926a45\"\n",
    ")\n",
    "ytt"
   ]
  },
  {
   "cell_type": "code",
   "execution_count": 2,
   "id": "5cd3f532-5dab-48fc-b4b0-782b9a4bf4b0",
   "metadata": {},
   "outputs": [
    {
     "name": "stdout",
     "output_type": "stream",
     "text": [
      "{'video_id': 'ZPewmEu7644', 'text': \" hi this is Jeff Dean welcome to applications of deep neural networks of Washington University in this video we're going to look at how we can use ganz to generate additional training data for the latest on my a I course and projects click subscribe in the bell next to it to be notified of every new video Dan's have a wide array of uses beyond just the face generation that you\", 'start_second': 0, 'end_second': 20, 'url': 'https://www.youtube.com/watch?v=ZPewmEu7644&t=0s', 'title': 'GANS for Semi-Supervised Learning in Keras (7.4)', 'thumbnail': 'https://i.ytimg.com/vi/ZPewmEu7644/maxresdefault.jpg'}\n"
     ]
    }
   ],
   "source": [
    "for x in ytt:\n",
    "    print(x)\n",
    "    break"
   ]
  },
  {
   "cell_type": "code",
   "execution_count": 3,
   "id": "822f5992-3de6-4d5b-b868-4c2041d488bd",
   "metadata": {},
   "outputs": [
    {
     "data": {
      "text/plain": [
       "SentenceTransformer(\n",
       "  (0): Transformer({'max_seq_length': 128, 'do_lower_case': False}) with Transformer model: MPNetModel \n",
       "  (1): Pooling({'word_embedding_dimension': 768, 'pooling_mode_cls_token': False, 'pooling_mode_mean_tokens': True, 'pooling_mode_max_tokens': False, 'pooling_mode_mean_sqrt_len_tokens': False})\n",
       "  (2): Normalize()\n",
       ")"
      ]
     },
     "execution_count": 3,
     "metadata": {},
     "output_type": "execute_result"
    }
   ],
   "source": [
    "from sentence_transformers import SentenceTransformer\n",
    "import torch\n",
    "\n",
    "device = 'cuda' if torch.cuda.is_available() else 'cpu'\n",
    "\n",
    "retriever = SentenceTransformer(\n",
    "    'flax-sentence-embeddings/all_datasets_v3_mpnet-base'\n",
    ")\n",
    "retriever.to(device)"
   ]
  },
  {
   "cell_type": "code",
   "execution_count": 4,
   "id": "644770cd-8ea6-49c7-8d41-cd103960b29b",
   "metadata": {},
   "outputs": [
    {
     "data": {
      "text/plain": [
       "True"
      ]
     },
     "execution_count": 4,
     "metadata": {},
     "output_type": "execute_result"
    }
   ],
   "source": [
    "torch.cuda.is_available()"
   ]
  },
  {
   "cell_type": "code",
   "execution_count": 5,
   "id": "b1b9cd59-224c-42b5-b7b1-2a07dd68e0dd",
   "metadata": {},
   "outputs": [
    {
     "data": {
      "text/plain": [
       "768"
      ]
     },
     "execution_count": 5,
     "metadata": {},
     "output_type": "execute_result"
    }
   ],
   "source": [
    "embed_dim = retriever.get_sentence_embedding_dimension()\n",
    "embed_dim"
   ]
  },
  {
   "cell_type": "code",
   "execution_count": 8,
   "id": "e7ea1864-4d27-4f99-86e8-998d6759c95c",
   "metadata": {},
   "outputs": [],
   "source": [
    "import pinecone\n",
    "\n",
    "# get api key from app.pinecone.io\n",
    "pinecone.init(\n",
    "    api_key=\"df570855-bbc4-4fd6-ab06-4782593e14a2\",\n",
    "    environment=\"gcp-starter\"\n",
    ")\n",
    "\n",
    "# create index\n",
    "pinecone.create_index(\n",
    "    \"youtube-search\",\n",
    "    dimension=embed_dim,\n",
    "    metric=\"cosine\"\n",
    ")\n",
    "\n",
    "# connect to new index\n",
    "index = pinecone.Index(\"youtube-search\")"
   ]
  },
  {
   "cell_type": "code",
   "execution_count": 7,
   "id": "21ed7dfe-e795-4bee-ab02-00b9f4246a73",
   "metadata": {},
   "outputs": [
    {
     "data": {
      "text/plain": [
       "tensor([0.], device='cuda:0')"
      ]
     },
     "execution_count": 7,
     "metadata": {},
     "output_type": "execute_result"
    }
   ],
   "source": [
    "torch.zeros(1).cuda()"
   ]
  },
  {
   "cell_type": "code",
   "execution_count": 9,
   "id": "c4e836f2-e8bc-4082-8e31-a04f6e2c6f46",
   "metadata": {},
   "outputs": [
    {
     "data": {
      "text/plain": [
       "<pinecone.index.Index at 0x1f1d9d11ed0>"
      ]
     },
     "execution_count": 9,
     "metadata": {},
     "output_type": "execute_result"
    }
   ],
   "source": [
    "index"
   ]
  },
  {
   "cell_type": "code",
   "execution_count": 10,
   "id": "af21a3d3-7d50-439a-be5b-3e56f8579070",
   "metadata": {},
   "outputs": [
    {
     "data": {
      "application/vnd.jupyter.widget-view+json": {
       "model_id": "0d0ad6918b184cf5846460b596217bc2",
       "version_major": 2,
       "version_minor": 0
      },
      "text/plain": [
       "  0%|          | 0/177 [00:00<?, ?it/s]"
      ]
     },
     "metadata": {},
     "output_type": "display_data"
    }
   ],
   "source": [
    "from tqdm.auto import tqdm\n",
    "\n",
    "docs = []  # this will store IDs, embeddings, and metadata\n",
    "\n",
    "batch_size = 64\n",
    "\n",
    "for i in tqdm(range(0, len(ytt), batch_size)):\n",
    "    i_end = min(i+batch_size, len(ytt))\n",
    "    # extract batch from YT transactions data\n",
    "    batch = ytt[i:i_end]\n",
    "    # encode batch of text\n",
    "    embeds = retriever.encode(batch['text']).tolist()\n",
    "    # each snippet needs a unique ID\n",
    "    # we will merge video ID and start_seconds for this\n",
    "    ids = [f\"{x[0]}-{x[1]}\" for x in zip(batch['video_id'], batch['start_second'])]\n",
    "    # create metadata records\n",
    "    meta = [{\n",
    "        'video_id': x[0],\n",
    "        'title': x[1],\n",
    "        'text': x[2],\n",
    "        'start_second': x[3],\n",
    "        'end_second': x[4],\n",
    "        'url': x[5],\n",
    "        'thumbnail': x[6]\n",
    "    } for x in zip(\n",
    "        batch['video_id'],\n",
    "        batch['title'],\n",
    "        batch['text'],\n",
    "        batch['start_second'],\n",
    "        batch['end_second'],\n",
    "        batch['url'],\n",
    "        batch['thumbnail']\n",
    "    )]\n",
    "    # create list of (IDs, vectors, metadata) to upsert\n",
    "    to_upsert = list(zip(ids, embeds, meta))\n",
    "    # add to pinecone\n",
    "    index.upsert(vectors=to_upsert)"
   ]
  },
  {
   "cell_type": "code",
   "execution_count": 11,
   "id": "1b711463-caa3-4502-a544-e8e1e009e8f8",
   "metadata": {},
   "outputs": [
    {
     "data": {
      "text/plain": [
       "{'dimension': 768,\n",
       " 'index_fullness': 0.11298,\n",
       " 'namespaces': {'': {'vector_count': 11298}},\n",
       " 'total_vector_count': 11298}"
      ]
     },
     "execution_count": 11,
     "metadata": {},
     "output_type": "execute_result"
    }
   ],
   "source": [
    "index.describe_index_stats()"
   ]
  },
  {
   "cell_type": "code",
   "execution_count": null,
   "id": "5a5218a0-00b9-469b-82ca-89b1a0fbb84d",
   "metadata": {},
   "outputs": [],
   "source": []
  },
  {
   "cell_type": "code",
   "execution_count": 12,
   "id": "d931a9e5-18c9-47ef-a683-4e0a757033d2",
   "metadata": {},
   "outputs": [],
   "source": [
    "query = \"What is deep learning?\"\n",
    "\n",
    "xq = retriever.encode([query]).tolist()"
   ]
  },
  {
   "cell_type": "code",
   "execution_count": 16,
   "id": "ae7d3c9f-82fa-4fba-a48c-02332f02d2ab",
   "metadata": {},
   "outputs": [
    {
     "name": "stdout",
     "output_type": "stream",
     "text": [
      " terms of optimization but what's the algorithm for updating the parameters or updating whatever the state of the network is and then the the last part is the the data set like how do you actually represent the world as it comes into your machine learning system so I think of deep learning as telling us something about what does the model look like and basically to qualify as deep I\n",
      "---\n",
      " any theoretical components any theoretical things that you need to understand about deep learning can be sick later for that link again just watched the word doc file again in that I mentioned the link also the second channel is my channel because deep learning might be complete deep learning playlist that I have created is completely in order okay to the other\n",
      "---\n",
      " under a rock for the last few years you have heard of the deep networks and how they have revolutionised computer vision and kind of the standard classic way of doing this is it's basically a classic supervised learning problem you are giving a network which you can think of as a big black box a pairs of input images and output labels XY pairs okay and this big black box essentially you\n",
      "---\n",
      " do the task at hand. Now deep learning is just a subset of machine learning which takes this idea even a step further and says how can we automatically extract the useful pieces of information needed to inform those future predictions or make a decision And that's what this class is all about teaching algorithms how to learn a task directly from raw data. We want to\n",
      "---\n",
      " algorithm and yelled at everybody in a good way that nobody was answering it correctly everybody knew what the alkyl it was graduate course everybody knew what an algorithm was but they weren't able to answer it well let me ask you in that same spirit what is deep learning I would say deep learning is any kind of machine learning that involves learning parameters of more than one consecutive\n",
      "---\n"
     ]
    }
   ],
   "source": [
    "xc = index.query(xq, top_k=5,\n",
    "                 include_metadata=True)\n",
    "for context in xc['matches']:\n",
    "    print(context['metadata']['text'], end=\"\\n---\\n\")"
   ]
  },
  {
   "cell_type": "code",
   "execution_count": 17,
   "id": "fa0a9964-d1ac-4fbf-8364-32842aa22c84",
   "metadata": {},
   "outputs": [],
   "source": [
    "pinecone.delete_index(\"youtube-search\")"
   ]
  },
  {
   "cell_type": "code",
   "execution_count": null,
   "id": "b5191957-e54c-4cdf-8ef5-a325eb195411",
   "metadata": {},
   "outputs": [],
   "source": []
  }
 ],
 "metadata": {
  "kernelspec": {
   "display_name": "Python 3 (ipykernel)",
   "language": "python",
   "name": "python3"
  },
  "language_info": {
   "codemirror_mode": {
    "name": "ipython",
    "version": 3
   },
   "file_extension": ".py",
   "mimetype": "text/x-python",
   "name": "python",
   "nbconvert_exporter": "python",
   "pygments_lexer": "ipython3",
   "version": "3.11.5"
  }
 },
 "nbformat": 4,
 "nbformat_minor": 5
}
